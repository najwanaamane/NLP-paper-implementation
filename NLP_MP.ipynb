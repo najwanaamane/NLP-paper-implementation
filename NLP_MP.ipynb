{
 "cells": [
  {
   "cell_type": "markdown",
   "id": "30c2cbcb",
   "metadata": {},
   "source": [
    "# Mini-Projet NLP: Classification des Nouvelles\n",
    "## Introduction\n",
    "Dans ce projet, nous allons classifier des articles de nouvelles en utilisant l'approche de text mining basée sur TF-IDF et SVM décrite dans le papier \"A Novel Text Mining Approach Based on TF-IDF and Support Vector Machine for News Classification\".\n"
   ]
  },
  {
   "cell_type": "markdown",
   "id": "c162fba3",
   "metadata": {},
   "source": [
    "## Chargement des Bibliothèques et des Données\n",
    "Dans cette section, nous chargeons les bibliothèques nécessaires et le dataset BBC.\n"
   ]
  },
  {
   "cell_type": "code",
   "execution_count": 17,
   "id": "060e7c90",
   "metadata": {},
   "outputs": [
    {
     "data": {
      "text/html": [
       "<div>\n",
       "<style scoped>\n",
       "    .dataframe tbody tr th:only-of-type {\n",
       "        vertical-align: middle;\n",
       "    }\n",
       "\n",
       "    .dataframe tbody tr th {\n",
       "        vertical-align: top;\n",
       "    }\n",
       "\n",
       "    .dataframe thead th {\n",
       "        text-align: right;\n",
       "    }\n",
       "</style>\n",
       "<table border=\"1\" class=\"dataframe\">\n",
       "  <thead>\n",
       "    <tr style=\"text-align: right;\">\n",
       "      <th></th>\n",
       "      <th>category</th>\n",
       "      <th>text</th>\n",
       "    </tr>\n",
       "  </thead>\n",
       "  <tbody>\n",
       "    <tr>\n",
       "      <th>0</th>\n",
       "      <td>tech</td>\n",
       "      <td>tv future in the hands of viewers with home th...</td>\n",
       "    </tr>\n",
       "    <tr>\n",
       "      <th>1</th>\n",
       "      <td>business</td>\n",
       "      <td>worldcom boss  left books alone  former worldc...</td>\n",
       "    </tr>\n",
       "    <tr>\n",
       "      <th>2</th>\n",
       "      <td>sport</td>\n",
       "      <td>tigers wary of farrell  gamble  leicester say ...</td>\n",
       "    </tr>\n",
       "    <tr>\n",
       "      <th>3</th>\n",
       "      <td>sport</td>\n",
       "      <td>yeading face newcastle in fa cup premiership s...</td>\n",
       "    </tr>\n",
       "    <tr>\n",
       "      <th>4</th>\n",
       "      <td>entertainment</td>\n",
       "      <td>ocean s twelve raids box office ocean s twelve...</td>\n",
       "    </tr>\n",
       "  </tbody>\n",
       "</table>\n",
       "</div>"
      ],
      "text/plain": [
       "        category                                               text\n",
       "0           tech  tv future in the hands of viewers with home th...\n",
       "1       business  worldcom boss  left books alone  former worldc...\n",
       "2          sport  tigers wary of farrell  gamble  leicester say ...\n",
       "3          sport  yeading face newcastle in fa cup premiership s...\n",
       "4  entertainment  ocean s twelve raids box office ocean s twelve..."
      ]
     },
     "execution_count": 17,
     "metadata": {},
     "output_type": "execute_result"
    }
   ],
   "source": [
    "import pandas as pd\n",
    "from sklearn.feature_extraction.text import TfidfVectorizer\n",
    "from sklearn.svm import SVC\n",
    "from sklearn.metrics import precision_score, recall_score, f1_score, confusion_matrix, classification_report\n",
    "from sklearn.model_selection import train_test_split\n",
    "import matplotlib.pyplot as plt\n",
    "import seaborn as sns\n",
    "\n",
    "# Charger le dataset BBC\n",
    "data = pd.read_csv('bbc-text.csv')\n",
    "data.head()\n"
   ]
  },
  {
   "cell_type": "markdown",
   "id": "77ed633d",
   "metadata": {},
   "source": [
    "## Prétraitement du Texte\n",
    "Nous allons nettoyer les données textuelles, transformer les caractères en minuscules, tokeniser les mots et filtrer les stopwords.\n"
   ]
  },
  {
   "cell_type": "code",
   "execution_count": 4,
   "id": "dfd3cf5d",
   "metadata": {},
   "outputs": [
    {
     "data": {
      "text/html": [
       "<div>\n",
       "<style scoped>\n",
       "    .dataframe tbody tr th:only-of-type {\n",
       "        vertical-align: middle;\n",
       "    }\n",
       "\n",
       "    .dataframe tbody tr th {\n",
       "        vertical-align: top;\n",
       "    }\n",
       "\n",
       "    .dataframe thead th {\n",
       "        text-align: right;\n",
       "    }\n",
       "</style>\n",
       "<table border=\"1\" class=\"dataframe\">\n",
       "  <thead>\n",
       "    <tr style=\"text-align: right;\">\n",
       "      <th></th>\n",
       "      <th>category</th>\n",
       "      <th>text</th>\n",
       "    </tr>\n",
       "  </thead>\n",
       "  <tbody>\n",
       "    <tr>\n",
       "      <th>0</th>\n",
       "      <td>tech</td>\n",
       "      <td>tv future hands viewers home theatre systems p...</td>\n",
       "    </tr>\n",
       "    <tr>\n",
       "      <th>1</th>\n",
       "      <td>business</td>\n",
       "      <td>worldcom boss left books former worldcom boss ...</td>\n",
       "    </tr>\n",
       "    <tr>\n",
       "      <th>2</th>\n",
       "      <td>sport</td>\n",
       "      <td>tigers wary farrell gamble leicester rushed bi...</td>\n",
       "    </tr>\n",
       "    <tr>\n",
       "      <th>3</th>\n",
       "      <td>sport</td>\n",
       "      <td>yeading newcastle fa cup premiership newcastle...</td>\n",
       "    </tr>\n",
       "    <tr>\n",
       "      <th>4</th>\n",
       "      <td>entertainment</td>\n",
       "      <td>ocean twelve raids box office ocean twelve cri...</td>\n",
       "    </tr>\n",
       "  </tbody>\n",
       "</table>\n",
       "</div>"
      ],
      "text/plain": [
       "        category                                               text\n",
       "0           tech  tv future hands viewers home theatre systems p...\n",
       "1       business  worldcom boss left books former worldcom boss ...\n",
       "2          sport  tigers wary farrell gamble leicester rushed bi...\n",
       "3          sport  yeading newcastle fa cup premiership newcastle...\n",
       "4  entertainment  ocean twelve raids box office ocean twelve cri..."
      ]
     },
     "execution_count": 4,
     "metadata": {},
     "output_type": "execute_result"
    }
   ],
   "source": [
    "def preprocess_text(text):\n",
    "    text = text.lower()  # Convertir en minuscules\n",
    "    tokens = text.split()  # Tokenisation\n",
    "    stopwords = set(open('stopwords.txt').read().split())  # Charger les stopwords\n",
    "    tokens = [word for word in tokens if word not in stopwords]  # Filtrer les stopwords\n",
    "    return ' '.join(tokens)\n",
    "\n",
    "data['text'] = data['text'].apply(preprocess_text)\n",
    "data.head()\n"
   ]
  },
  {
   "cell_type": "markdown",
   "id": "d14c88d1",
   "metadata": {},
   "source": [
    "## Extraction des Caractéristiques avec TF-IDF\n",
    "Nous allons extraire les caractéristiques du texte en utilisant l'algorithme TF-IDF.\n"
   ]
  },
  {
   "cell_type": "code",
   "execution_count": 5,
   "id": "7ef898e4",
   "metadata": {},
   "outputs": [],
   "source": [
    "vectorizer = TfidfVectorizer()\n",
    "X = vectorizer.fit_transform(data['text'])\n",
    "y = data['category']\n"
   ]
  },
  {
   "cell_type": "markdown",
   "id": "acce9a10",
   "metadata": {},
   "source": [
    "## Division des Données en Train et Test\n",
    "Nous allons diviser les données en ensembles d'entrainement et de test.\n"
   ]
  },
  {
   "cell_type": "code",
   "execution_count": 6,
   "id": "53fdba3a",
   "metadata": {},
   "outputs": [],
   "source": [
    "X_train, X_test, y_train, y_test = train_test_split(X, y, test_size=0.2, random_state=42)\n"
   ]
  },
  {
   "cell_type": "markdown",
   "id": "8a080738",
   "metadata": {},
   "source": [
    "## Classification avec SVM\n",
    "Nous allons entraîner un modèle SVM sur les données d'entraînement et prédire les catégories pour les données de test.\n"
   ]
  },
  {
   "cell_type": "code",
   "execution_count": 8,
   "id": "4db8b550",
   "metadata": {},
   "outputs": [],
   "source": [
    "model = SVC(kernel='rbf', C=1.0)\n",
    "model.fit(X_train, y_train)\n",
    "y_pred = model.predict(X_test)\n"
   ]
  },
  {
   "cell_type": "markdown",
   "id": "5726abd3",
   "metadata": {},
   "source": [
    "## Évaluation du Modèle\n",
    "Nous allons évaluer les performances du modèle en utilisant les mesures de précision, rappel et F1 score.\n"
   ]
  },
  {
   "cell_type": "code",
   "execution_count": 9,
   "id": "2ad8d4dd",
   "metadata": {},
   "outputs": [
    {
     "name": "stdout",
     "output_type": "stream",
     "text": [
      "Precision: 0.9692637102133799\n",
      "Recall: 0.9685393258426966\n",
      "F1 Score: 0.9685858887341556\n"
     ]
    }
   ],
   "source": [
    "precision = precision_score(y_test, y_pred, average='weighted')\n",
    "recall = recall_score(y_test, y_pred, average='weighted')\n",
    "f1 = f1_score(y_test, y_pred, average='weighted')\n",
    "\n",
    "print(f'Precision: {precision}')\n",
    "print(f'Recall: {recall}')\n",
    "print(f'F1 Score: {f1}')\n"
   ]
  },
  {
   "cell_type": "code",
   "execution_count": 14,
   "id": "ba90292c",
   "metadata": {},
   "outputs": [
    {
     "data": {
      "image/png": "[encoded data removed]",
      "text/plain": [
       "<Figure size 1000x700 with 2 Axes>"
      ]
     },
     "metadata": {},
     "output_type": "display_data"
    }
   ],
   "source": [
    "conf_matrix = confusion_matrix(y_test, y_pred)\n",
    "plt.figure(figsize=(10, 7))\n",
    "sns.heatmap(conf_matrix, annot=True, fmt='d', cmap='Blues', xticklabels=model.classes_, yticklabels=model.classes_)\n",
    "plt.xlabel('Predicted')\n",
    "plt.ylabel('Actual')\n",
    "plt.title('Matrice de Confusion')\n",
    "plt.show()\n"
   ]
  },
  {
   "cell_type": "markdown",
   "id": "7c7c7051",
   "metadata": {},
   "source": [
    "## Tableau des Précisions et des F-Mesures par Classe\n",
    "Nous allons créer des tableaux montrant la précision et la F-mesure pour chaque classe.\n"
   ]
  },
  {
   "cell_type": "code",
   "execution_count": 19,
   "id": "c2f473a0",
   "metadata": {},
   "outputs": [
    {
     "data": {
      "text/html": [
       "<div>\n",
       "<style scoped>\n",
       "    .dataframe tbody tr th:only-of-type {\n",
       "        vertical-align: middle;\n",
       "    }\n",
       "\n",
       "    .dataframe tbody tr th {\n",
       "        vertical-align: top;\n",
       "    }\n",
       "\n",
       "    .dataframe thead th {\n",
       "        text-align: right;\n",
       "    }\n",
       "</style>\n",
       "<table border=\"1\" class=\"dataframe\">\n",
       "  <thead>\n",
       "    <tr style=\"text-align: right;\">\n",
       "      <th></th>\n",
       "      <th>Classe</th>\n",
       "      <th>Précision</th>\n",
       "    </tr>\n",
       "  </thead>\n",
       "  <tbody>\n",
       "    <tr>\n",
       "      <th>0</th>\n",
       "      <td>business</td>\n",
       "      <td>0.941176</td>\n",
       "    </tr>\n",
       "    <tr>\n",
       "      <th>1</th>\n",
       "      <td>entertainment</td>\n",
       "      <td>1.000000</td>\n",
       "    </tr>\n",
       "    <tr>\n",
       "      <th>2</th>\n",
       "      <td>politics</td>\n",
       "      <td>0.941860</td>\n",
       "    </tr>\n",
       "    <tr>\n",
       "      <th>3</th>\n",
       "      <td>sport</td>\n",
       "      <td>0.970297</td>\n",
       "    </tr>\n",
       "    <tr>\n",
       "      <th>4</th>\n",
       "      <td>tech</td>\n",
       "      <td>1.000000</td>\n",
       "    </tr>\n",
       "  </tbody>\n",
       "</table>\n",
       "</div>"
      ],
      "text/plain": [
       "          Classe  Précision\n",
       "0       business   0.941176\n",
       "1  entertainment   1.000000\n",
       "2       politics   0.941860\n",
       "3          sport   0.970297\n",
       "4           tech   1.000000"
      ]
     },
     "execution_count": 19,
     "metadata": {},
     "output_type": "execute_result"
    }
   ],
   "source": [
    "report = classification_report(y_test, y_pred, output_dict=True)\n",
    "report_df = pd.DataFrame(report).transpose()\n",
    "precision_per_class = report_df['precision'][:-3]\n",
    "f1_per_class = report_df['f1-score'][:-3]\n",
    "\n",
    "precision_table = precision_per_class.to_frame().reset_index()\n",
    "precision_table.columns = ['Classe', 'Précision']\n",
    "\n",
    "f1_table = f1_per_class.to_frame().reset_index()\n",
    "f1_table.columns = ['Classe', 'F-mesure']\n",
    "\n",
    "# Afficher les tableaux\n",
    "precision_table\n"
   ]
  },
  {
   "cell_type": "code",
   "execution_count": 20,
   "id": "af71fbf6",
   "metadata": {
    "scrolled": true
   },
   "outputs": [
    {
     "data": {
      "text/html": [
       "<div>\n",
       "<style scoped>\n",
       "    .dataframe tbody tr th:only-of-type {\n",
       "        vertical-align: middle;\n",
       "    }\n",
       "\n",
       "    .dataframe tbody tr th {\n",
       "        vertical-align: top;\n",
       "    }\n",
       "\n",
       "    .dataframe thead th {\n",
       "        text-align: right;\n",
       "    }\n",
       "</style>\n",
       "<table border=\"1\" class=\"dataframe\">\n",
       "  <thead>\n",
       "    <tr style=\"text-align: right;\">\n",
       "      <th></th>\n",
       "      <th>Classe</th>\n",
       "      <th>F-mesure</th>\n",
       "    </tr>\n",
       "  </thead>\n",
       "  <tbody>\n",
       "    <tr>\n",
       "      <th>0</th>\n",
       "      <td>business</td>\n",
       "      <td>0.945813</td>\n",
       "    </tr>\n",
       "    <tr>\n",
       "      <th>1</th>\n",
       "      <td>entertainment</td>\n",
       "      <td>0.987500</td>\n",
       "    </tr>\n",
       "    <tr>\n",
       "      <th>2</th>\n",
       "      <td>politics</td>\n",
       "      <td>0.958580</td>\n",
       "    </tr>\n",
       "    <tr>\n",
       "      <th>3</th>\n",
       "      <td>sport</td>\n",
       "      <td>0.984925</td>\n",
       "    </tr>\n",
       "    <tr>\n",
       "      <th>4</th>\n",
       "      <td>tech</td>\n",
       "      <td>0.968553</td>\n",
       "    </tr>\n",
       "  </tbody>\n",
       "</table>\n",
       "</div>"
      ],
      "text/plain": [
       "          Classe  F-mesure\n",
       "0       business  0.945813\n",
       "1  entertainment  0.987500\n",
       "2       politics  0.958580\n",
       "3          sport  0.984925\n",
       "4           tech  0.968553"
      ]
     },
     "execution_count": 20,
     "metadata": {},
     "output_type": "execute_result"
    }
   ],
   "source": [
    "f1_table\n"
   ]
  },
  {
   "cell_type": "markdown",
   "id": "4de8b8c8",
   "metadata": {},
   "source": [
    "## Interprétation des Résultats\n",
    "### Précision Globale\n",
    "La précision globale du modèle est de 97.84%, ce qui est très élevé et indique que le modèle est performant pour la classification des nouvelles dans les différentes catégories. La mesure F1 globale est également élevée, indiquant un bon équilibre entre précision et rappel.\n",
    "\n",
    "### Matrice de Confusion\n",
    "La matrice de confusion montre que la plupart des catégories sont correctement classées. Cependant, il y a quelques erreurs de classification, comme certaines nouvelles de la catégorie \"business\" classées incorrectement dans d'autres catégories. \n",
    "\n",
    "### Précision et F-Mesure par Classe\n",
    "Les tableaux des précisions et des F-mesures par classe montrent que les catégories \"sport\" et \"entertainment\" ont les meilleures performances, avec des précisions et des F-mesures très proches de 1. La catégorie \"business\" a les performances les plus faibles, ce qui suggère que des améliorations peuvent être apportées dans la classification de cette catégorie, peut-être en utilisant des caractéristiques supplémentaires ou en affinant les paramètres du modèle SVM.\n",
    "\n",
    "En conclusion, le modèle basé sur TF-IDF et SVM offre des performances solides pour la classification des nouvelles, mais des ajustements supplémentaires peuvent être nécessaires pour optimiser les performances pour certaines catégories spécifiques.\n"
   ]
  }
 ],
 "metadata": {
  "kernelspec": {
   "display_name": "Python 3 (ipykernel)",
   "language": "python",
   "name": "python3"
  },
  "language_info": {
   "codemirror_mode": {
    "name": "ipython",
    "version": 3
   },
   "file_extension": ".py",
   "mimetype": "text/x-python",
   "name": "python",
   "nbconvert_exporter": "python",
   "pygments_lexer": "ipython3",
   "version": "3.9.18"
  }
 },
 "nbformat": 4,
 "nbformat_minor": 5
}
